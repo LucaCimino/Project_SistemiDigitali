{
 "cells": [
  {
   "cell_type": "markdown",
   "metadata": {},
   "source": [
    "Cifratura di un blocco di plaintext di 128 bit usando il modulo cryptography di Python (la cifratura viene eseguita su CPU)"
   ]
  },
  {
   "cell_type": "code",
   "execution_count": 9,
   "metadata": {},
   "outputs": [
    {
     "name": "stdout",
     "output_type": "stream",
     "text": [
      "Encryption execution time: 0.0014600753784179688 s\n",
      "Decryption execution time: 0.0014116764068603516 s\n"
     ]
    }
   ],
   "source": [
    "from cryptography.hazmat.primitives.ciphers import Cipher, algorithms, modes\n",
    "import os\n",
    "import time\n",
    "\n",
    "key = b\"\\x63\\xd3\\x71\\xe3\\x6b\\xb2\\x12\\x85\\xe7\\x67\\xd2\\xff\\x11\\x15\\xe3\\xab\"\n",
    "\n",
    "# CIFRATURA\n",
    "cipher = Cipher(algorithms.AES(key), modes.ECB())\n",
    "encryptor = cipher.encryptor()\n",
    "plaintext = b\"\\x04\\xb4\\x56\\xee\\x17\\xa6\\x6a\\xbe\\x53\\x28\\xa7\\x73\\xd6\\x7c\\xd8\\x6a\"\n",
    "\n",
    "start = time.time()\n",
    "ct = encryptor.update(plaintext) + encryptor.finalize()\n",
    "end = time.time()\n",
    "\n",
    "print(\"Encryption execution time:\", end - start, \"s\")\n",
    "\n",
    "\n",
    "# DECIFRATURA\n",
    "decryptor = cipher.decryptor()\n",
    "\n",
    "start = time.time()\n",
    "dt = decryptor.update(ct) + decryptor.finalize()\n",
    "end = time.time()\n",
    "\n",
    "print(\"Decryption execution time:\", end - start, \"s\")"
   ]
  },
  {
   "cell_type": "markdown",
   "metadata": {},
   "source": [
    "Cifratura di un'immagine 200x150 pixel RGB (Totale = 90.000 bytes) usando ECB del modulo cryptography di Python"
   ]
  },
  {
   "cell_type": "code",
   "execution_count": 20,
   "metadata": {},
   "outputs": [
    {
     "name": "stdout",
     "output_type": "stream",
     "text": [
      "Total bytes to encrypt: 90000\n",
      "Encryption execution time: 0.007719516754150391 s\n"
     ]
    }
   ],
   "source": [
    "from PIL import Image\n",
    "\n",
    "# CIFRATURA\n",
    "cipher = Cipher(algorithms.AES(key), modes.ECB())\n",
    "encryptor = cipher.encryptor()\n",
    "\n",
    "original_image = Image.open(\"image.jpg\")\n",
    "image_data = original_image.tobytes()\n",
    "plaintext = bytearray(image_data)\n",
    "\n",
    "print(\"Total bytes to encrypt:\",len(plaintext))\n",
    "\n",
    "start = time.time()\n",
    "ct = encryptor.update(plaintext) + encryptor.finalize()\n",
    "end = time.time()\n",
    "\n",
    "print(\"Encryption execution time:\", end - start, \"s\")"
   ]
  },
  {
   "cell_type": "markdown",
   "metadata": {},
   "source": [
    "Cifratura di un'immagine 200x150 pixel RGB (Totale = 90.000 bytes) usando CBC del modulo cryptography di Python"
   ]
  },
  {
   "cell_type": "code",
   "execution_count": 32,
   "metadata": {},
   "outputs": [
    {
     "name": "stdout",
     "output_type": "stream",
     "text": [
      "Total bytes to encrypt: 90000\n",
      "Encryption execution time: 0.007498502731323242 s\n"
     ]
    }
   ],
   "source": [
    "from PIL import Image\n",
    "import os\n",
    "\n",
    "iv = os.urandom(16)\n",
    "\n",
    "# CIFRATURA\n",
    "cipher = Cipher(algorithms.AES(key), modes.CBC(iv))\n",
    "encryptor = cipher.encryptor()\n",
    "\n",
    "original_image = Image.open(\"image.jpg\")\n",
    "image_data = original_image.tobytes()\n",
    "plaintext = bytearray(image_data)\n",
    "\n",
    "print(\"Total bytes to encrypt:\",len(plaintext))\n",
    "\n",
    "start = time.time()\n",
    "ct = encryptor.update(plaintext) + encryptor.finalize()\n",
    "end = time.time()\n",
    "\n",
    "print(\"Encryption execution time:\", end - start, \"s\")"
   ]
  }
 ],
 "metadata": {
  "kernelspec": {
   "display_name": "Python 3 (ipykernel)",
   "language": "python",
   "name": "python3"
  },
  "language_info": {
   "codemirror_mode": {
    "name": "ipython",
    "version": 3
   },
   "file_extension": ".py",
   "mimetype": "text/x-python",
   "name": "python",
   "nbconvert_exporter": "python",
   "pygments_lexer": "ipython3",
   "version": "3.10.4"
  }
 },
 "nbformat": 4,
 "nbformat_minor": 2
}
