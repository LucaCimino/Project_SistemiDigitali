{
 "cells": [
  {
   "cell_type": "markdown",
   "metadata": {},
   "source": [
    "cd luca/Scrivania/Magistrale/SistemiDigitali/Progetto/Project_SistemiDigitali/AES_Encryption/Vivado/AES_CTR_Pynq/\n",
    "scp design_1.bit xilinx@192.168.2.99:/home/xilinx/pynq/overlays/AES_Encryption/\"\n",
    "scp design_1.tcl xilinx@192.168.2.99:/home/xilinx/pynq/overlays/AES_Encryption/\"\n",
    "scp design_1.hwh xilinx@192.168.2.99:/home/xilinx/pynq/overlays/AES_Encryption/\"\n",
    "\n",
    "scp "
   ]
  },
  {
   "cell_type": "code",
   "execution_count": null,
   "metadata": {},
   "outputs": [],
   "source": [
    "from pynq import Overlay\n",
    "import pynq.lib.dma\n",
    "import numpy as np\n",
    "import time\n",
    "\n",
    "# Caricamento dell'overlay\n",
    "overlay = Overlay('/home/xilinx/pynq/overlays/AES_Encryption/design_1.bit')\n",
    "\n",
    "# Caricamento del DMA\n",
    "dma = overlay.axi_dma_0\n",
    "\n",
    "# Check DMA status\n",
    "sendstatus = dma.sendchannel.running\n",
    "recvstatus = dma.recvchannel.running\n",
    "print(\"sendstatus:\", sendstatus,\" -  recvstatus:\",recvstatus)\n",
    "\n",
    "# Alloca memoria per l'input e l'output -> 2 array da 16 byte (uint8)\n",
    "data_size = 16\n",
    "in_buffer = pynq.allocate(shape=(data_size,), dtype=np.uint8)\n",
    "out_buffer = pynq.allocate(shape=(data_size,), dtype=np.uint8)\n",
    "\n",
    "\n",
    "# Plaintext di prova\n",
    "#plaintext = b\"\\x04\\xb4\\x56\\xee\\x17\\xa6\\x6a\\xbe\\x53\\x28\\xa7\\x73\\xd6\\x7c\\xd8\\x6a\"\n",
    "plaintext = b\"\\x33\\xdd\\x56\\xee\\x17\\xa6\\x1a\\x13\\x32\\x28\\xa7\\x73\\x65\\x1c\\xd2\\x41\"\n",
    "plaintext_array = np.array(bytearray(plaintext))\n",
    "print(\"Plaintext: \",plaintext)\n",
    "\n",
    "# Copia dei dati nel buffer\n",
    "np.copyto(in_buffer, plaintext_array)\n",
    "\n",
    "# Avviare il trasferimento del DMA ed aspettare i risultati\n",
    "start = time.time()\n",
    "dma.sendchannel.transfer(in_buffer)\n",
    "dma.recvchannel.transfer(out_buffer)\n",
    "dma.sendchannel.wait()\n",
    "dma.recvchannel.wait()\n",
    "end = time.time()\n",
    "\n",
    "print(\"Execution time:\", end - start, \"s\")\n",
    "\n",
    "output = bytearray(out_buffer)\n",
    "print(\"Cipher:\", bytes(output))\n",
    "\n",
    "# Dovrebbe venire\n",
    "#       a9 99 07 o    e3 f3 bf X    a4 b2 b0 [    e5 | g a4\n",
    "#       a9 99 07 6f   e3 f3 bf 58   a4 b2 b0 5b   e5 7c 67 a4 \n",
    "\n",
    "# Liberare i buffer\n",
    "in_buffer.close()\n",
    "out_buffer.close()\n",
    "\n"
   ]
  },
  {
   "cell_type": "markdown",
   "metadata": {},
   "source": [
    "Per nascondere all'utente il codice di gestione del DMA, possiamo scrivere un driver "
   ]
  },
  {
   "cell_type": "code",
   "execution_count": null,
   "metadata": {},
   "outputs": [],
   "source": [
    "from pynq import Default"
   ]
  }
 ],
 "metadata": {
  "language_info": {
   "name": "python"
  }
 },
 "nbformat": 4,
 "nbformat_minor": 2
}
