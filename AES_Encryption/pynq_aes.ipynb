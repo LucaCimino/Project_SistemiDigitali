{
 "cells": [
  {
   "cell_type": "markdown",
   "metadata": {},
   "source": [
    "Copiare \n",
    "- \"/home/luca/Scrivania/Magistrale/SistemiDigitali/Progetto/Project_SistemiDigitali/AES_Encryption/Vivado/AES_CTR_Pynq/design_1.bit\"\n",
    "- \"/home/luca/Scrivania/Magistrale/SistemiDigitali/Progetto/Project_SistemiDigitali/AES_Encryption/Vivado/AES_CTR_Pynq/design_1.tcl\" \n",
    "in\n",
    "-  \"/home/xilinx/pynq/overlays/AES_Encryption/\""
   ]
  },
  {
   "cell_type": "code",
   "execution_count": null,
   "metadata": {},
   "outputs": [],
   "source": [
    "from pynq import Overlay\n",
    "import pynq.lib.dma\n",
    "from pynq import Xlnk\n",
    "import numpy as np\n",
    "import time\n",
    "\n",
    "# Caricamento dell'overlay\n",
    "overlay = Overlay('/home/xilinx/overlays/AES_Encryption/design_1.bit')\n",
    "\n",
    "# Caricamento del DMA\n",
    "dma = overlay.axi_dma_0\n",
    "\n",
    "# Alloca memoria per l'input e l'output\n",
    "xlnk = Xlnk()\n",
    "data_size = 16\n",
    "in_buffer = xlnk.cma_array(shape=(data_size,), dtype=np.uint8)\n",
    "out_buffer = xlnk.cma_array(shape=(data_size,), dtype=np.uint8)\n",
    "\n",
    "# Plaintext di prova\n",
    "plaintext = b\"\\x04\\xb4\\x56\\xee\\x17\\xa6\\x6a\\xbe\\x53\\x28\\xa7\\x73\\xd6\\x7c\\xd8\\x6a\"\n",
    "plaintext_array = np.array(bytearray(plaintext))\n",
    "\n",
    "# Copia dei dati nel buffer\n",
    "np.copyto(in_buffer, plaintext_array)\n",
    "\n",
    "# Avviare il trasferimento del DMA ed aspettare i risultati\n",
    "start = time.time()\n",
    "dma.sendchannel.transfer(in_buffer)\n",
    "dma.recvchannel.transfer(out_buffer)\n",
    "dma.sendchannel.wait()\n",
    "dma.recvchannel.wait()\n",
    "end = time.time()\n",
    "\n",
    "print(\"Execution time:\", end-start, \"s\")\n",
    "\n",
    "output = bytearray(out_buffer)\n",
    "printf(\"Chiper:\", output.hex())\n",
    "\n",
    "\n",
    "# Liberare i buffer\n",
    "in_buffer.close()\n",
    "out_buffer.close()\n"
   ]
  },
  {
   "cell_type": "markdown",
   "metadata": {},
   "source": [
    "Per nascondere all'utente il codice di gestione del DMA, possiamo scrivere un driver "
   ]
  },
  {
   "cell_type": "code",
   "execution_count": null,
   "metadata": {},
   "outputs": [],
   "source": [
    "from pynq import Defualt"
   ]
  }
 ],
 "metadata": {
  "language_info": {
   "name": "python"
  }
 },
 "nbformat": 4,
 "nbformat_minor": 2
}
